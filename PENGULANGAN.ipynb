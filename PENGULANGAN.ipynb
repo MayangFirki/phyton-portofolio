{
  "nbformat": 4,
  "nbformat_minor": 0,
  "metadata": {
    "colab": {
      "provenance": [],
      "collapsed_sections": [],
      "authorship_tag": "ABX9TyOxIh6nwXZ19ndUCpAt+Inz",
      "include_colab_link": true
    },
    "kernelspec": {
      "name": "python3",
      "display_name": "Python 3"
    },
    "language_info": {
      "name": "python"
    }
  },
  "cells": [
    {
      "cell_type": "markdown",
      "metadata": {
        "id": "view-in-github",
        "colab_type": "text"
      },
      "source": [
        "<a href=\"https://colab.research.google.com/github/MayangFirki/phyton-portofolio/blob/main/PENGULANGAN.ipynb\" target=\"_parent\"><img src=\"https://colab.research.google.com/assets/colab-badge.svg\" alt=\"Open In Colab\"/></a>"
      ]
    },
    {
      "cell_type": "code",
      "execution_count": null,
      "metadata": {
        "colab": {
          "base_uri": "https://localhost:8080/"
        },
        "id": "PCqgZbFM4_nX",
        "outputId": "3b6e6760-05a0-43c7-f81c-5ab0a35d11f3"
      },
      "outputs": [
        {
          "output_type": "stream",
          "name": "stdout",
          "text": [
            "Masukkan Bilangan bulat positif untuk lanjut\n",
            "Masukkan Bilangan -1 untuk berhenti\n",
            "-------------------------------------\n",
            "Masukkan Bilangan : 2\n",
            "[2]\n",
            "-------------------------------------\n",
            "Masukkan Bilangan bulat positif untuk lanjut\n",
            "Masukkan Bilangan -1 untuk berhenti\n",
            "-------------------------------------\n",
            "Masukkan Bilangan : 4\n",
            "[2, 4]\n",
            "-------------------------------------\n",
            "Masukkan Bilangan bulat positif untuk lanjut\n",
            "Masukkan Bilangan -1 untuk berhenti\n",
            "-------------------------------------\n",
            "Masukkan Bilangan : 6\n",
            "[2, 4, 6]\n",
            "-------------------------------------\n",
            "Masukkan Bilangan bulat positif untuk lanjut\n",
            "Masukkan Bilangan -1 untuk berhenti\n",
            "-------------------------------------\n",
            "Masukkan Bilangan : -1\n",
            "-------------------------------------\n",
            "Goodbye!\n",
            "banyak bilangan yang dimasukkan = 3\n",
            "hasil jumlah bilangan = 12\n"
          ]
        }
      ],
      "source": [
        "stop=False\n",
        "temp=0\n",
        "listku=[]\n",
        "while not (stop):\n",
        "  print(\"Masukkan Bilangan bulat positif untuk lanjut\")\n",
        "  print(\"Masukkan Bilangan -1 untuk berhenti\")\n",
        "  print(\"-------------------------------------\")\n",
        "  bilangan=int(input(\"Masukkan Bilangan : \"))\n",
        "  \n",
        "\n",
        "  if bilangan > 0 and bilangan!=0:\n",
        "    listku.append(bilangan)\n",
        "    print(listku)\n",
        "    temp=temp+bilangan\n",
        "    \n",
        "    print(\"-------------------------------------\")\n",
        "  elif bilangan == -1:\n",
        "    print(\"-------------------------------------\")\n",
        "    print(\"Goodbye!\")\n",
        "    print(\"banyak bilangan yang dimasukkan =\",len(listku))\n",
        "    print(\"hasil jumlah bilangan =\",temp)\n",
        "    stop=True\n",
        "  else:\n",
        "    print(\"-------------------------------------\")\n",
        "    stop=False"
      ]
    },
    {
      "cell_type": "code",
      "source": [
        "list1 = []\n",
        "\n",
        "while True :\n",
        "  angka = input(str(\"masukan bilangan bulat postif:\"))\n",
        "  \n",
        "\n",
        "  if angka == \"-1\" :\n",
        "    print(\"Goodbye!\")\n",
        "    break\n",
        "\n",
        "  else :\n",
        "    print(f\"masukan -1 untuk stop\")\n",
        "    list1.append(angka)\n",
        "\n",
        "print(list1)"
      ],
      "metadata": {
        "colab": {
          "base_uri": "https://localhost:8080/"
        },
        "id": "x9glj0Mw8tEo",
        "outputId": "32856270-c6c6-4952-9f7a-9df27785af1f"
      },
      "execution_count": null,
      "outputs": [
        {
          "output_type": "stream",
          "name": "stdout",
          "text": [
            "masukan bilangan bulat postif:2\n",
            "masukan -1 untuk stop\n",
            "masukan bilangan bulat postif:3\n",
            "masukan -1 untuk stop\n",
            "masukan bilangan bulat postif:-1\n",
            "Goodbye!\n",
            "['2', '3']\n"
          ]
        }
      ]
    },
    {
      "cell_type": "code",
      "source": [
        "numbers=list(range (1,10))\n",
        "print(numbers)"
      ],
      "metadata": {
        "colab": {
          "base_uri": "https://localhost:8080/"
        },
        "id": "nQRYWRIRBcKw",
        "outputId": "82a5d190-8d45-4688-b65f-0376ffd563df"
      },
      "execution_count": null,
      "outputs": [
        {
          "output_type": "stream",
          "name": "stdout",
          "text": [
            "[1, 2, 3, 4, 5, 6, 7, 8, 9]\n"
          ]
        }
      ]
    }
  ]
}