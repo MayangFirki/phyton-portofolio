{
  "nbformat": 4,
  "nbformat_minor": 0,
  "metadata": {
    "colab": {
      "provenance": [],
      "collapsed_sections": [],
      "include_colab_link": true
    },
    "kernelspec": {
      "name": "python3",
      "display_name": "Python 3"
    },
    "language_info": {
      "name": "python"
    }
  },
  "cells": [
    {
      "cell_type": "markdown",
      "metadata": {
        "id": "view-in-github",
        "colab_type": "text"
      },
      "source": [
        "<a href=\"https://colab.research.google.com/github/MayangFirki/phyton-portofolio/blob/main/210411100094_Modul2_Seleksi_Dan_Iterasi.ipynb\" target=\"_parent\"><img src=\"https://colab.research.google.com/assets/colab-badge.svg\" alt=\"Open In Colab\"/></a>"
      ]
    },
    {
      "cell_type": "code",
      "metadata": {
        "id": "ilAqR01MkpmH"
      },
      "source": [
        "'''\n",
        "Nama : Mayang Firki Afridasari\n"
      ],
      "execution_count": null,
      "outputs": []
    },
    {
      "cell_type": "code",
      "metadata": {
        "id": "CV14-IEmi7ka"
      },
      "source": [
        "'''\n",
        "1 Konsep Seleksi dan Iterasi\n",
        "  Tulis ringkasan atau penjelasan hal-hal berikut, dengan kata-kata kalian sendiri :\n",
        "  1. Terdapat tiga syntax percabangan di dalam Python, yaitu if, if else, dan if elif .. else. Jelaskan\n",
        "     perbedaan ketiganya, dan tuliskan contoh code masing-masing syntax.\n",
        "  2. Terdapat dua syntax perulangan di dalam Python, yaitu for dan while. Jelaskan perbedaan keduanya,\n",
        "     dan tuliskan contoh code masing-masing syntax"
      ],
      "execution_count": null,
      "outputs": []
    },
    {
      "cell_type": "code",
      "metadata": {
        "colab": {
          "base_uri": "https://localhost:8080/"
        },
        "id": "wHIvPYD-koAo",
        "outputId": "6364feea-934d-414d-8405-6639f74e9798"
      },
      "source": [
        "'''\n",
        "1. Syntax if : digunakan apabila hanya ada 1 pilihan keputusan\n",
        "   Syntax if else : digunakan apabila ada 2 pilihan keputusan\n",
        "   Syntax if elif else : digunakan apabila ada lebih dari 2 pilihan keputusan\n",
        "'''\n",
        "print('Contoh if')\n",
        "n = 2\n",
        "if n==2:\n",
        "  print('benar')\n",
        "print('--------------------------------')\n",
        "print('Contoh if else')\n",
        "umur = 18\n",
        "if umur>17:\n",
        "  print('Boleh nonton film Perempuan Tanah Jahanam')\n",
        "else:\n",
        "  print('Tidak boleh nonton film Perempuan Tanah Jahanam')\n",
        "print('--------------------------------')\n",
        "print('Contoh if elif else')\n",
        "BodyMassIndex = 19.3\n",
        "if BodyMassIndex>=18.5 and BodyMassIndex <=25:\n",
        "  print('Body Mass Index anda =',BodyMassIndex,'; ideal')\n",
        "elif BodyMassIndex<18.5:\n",
        "  print('Body Mass Index anda =',BodyMassIndex,'; underweight')\n",
        "else:\n",
        "  print('Body Mass Index anda =',BodyMassIndex,'; overweight')\n"
      ],
      "execution_count": null,
      "outputs": [
        {
          "output_type": "stream",
          "name": "stdout",
          "text": [
            "Contoh if\n",
            "benar\n",
            "--------------------------------\n",
            "Contoh if else\n",
            "Boleh nonton film Perempuan Tanah Jahanam\n",
            "--------------------------------\n",
            "Contoh if elif else\n",
            "Body Mass Index anda = 19.3 ; ideal\n"
          ]
        }
      ]
    },
    {
      "cell_type": "code",
      "metadata": {
        "colab": {
          "base_uri": "https://localhost:8080/"
        },
        "id": "z6yY60TrnSUX",
        "outputId": "b431a52b-6373-43b5-e97a-97c545867bb7"
      },
      "source": [
        "'''\n",
        "2. Syntax for digunakan apabila kita tahu berapa banyak perulangan yang akan dilakukan, dimulai dengan 0 dan berakhir dengan n-1\n",
        "   Syntax while digunakan apabila kita tidak tahu berapa banyak perulangan yang akan dilakukan\n",
        "'''\n",
        "print('Contoh for')\n",
        "for i in range(5):\n",
        "  print(i)\n",
        "print('-------------')\n",
        "print('Contoh while')\n",
        "n=0\n",
        "while n<5:\n",
        "  print(n)\n",
        "  n=n+1"
      ],
      "execution_count": null,
      "outputs": [
        {
          "output_type": "stream",
          "name": "stdout",
          "text": [
            "Contoh for\n",
            "0\n",
            "1\n",
            "2\n",
            "3\n",
            "4\n",
            "-------------\n",
            "Contoh while\n",
            "0\n",
            "1\n",
            "2\n",
            "3\n",
            "4\n"
          ]
        }
      ]
    },
    {
      "cell_type": "code",
      "metadata": {
        "colab": {
          "base_uri": "https://localhost:8080/"
        },
        "id": "9hNe38oGq_TY",
        "outputId": "d2461cff-53d0-4e9c-9202-e6c587acca28"
      },
      "source": [
        "'''\n",
        "2 Implementasi\n",
        "  2.1 Bilangan Prima\n",
        "  Buatlah flowchart (tidak harus menggunakan flogorithm) dari penentuan apakah suatu bilangan (inputan\n",
        "  dari user) adalah bilangan prima. Implementasikan flowchart yang sudah dibuat (bukan generate dari\n",
        "  flowgorithm) dengan menggunakan bahasa Python\n",
        "'''\n",
        "num = int(input('Masukkan bilangan : '))\n",
        "count = 0\n",
        "for i in range (1,num+1):\n",
        "  if num%i==0:\n",
        "    count=count+1\n",
        "if count==2:\n",
        "  print(num,'adalah Bilangan Prima')\n",
        "else:\n",
        "  print(num,'Bukan bilangan prima, memiliki faktor pembagi sebanyak',count)"
      ],
      "execution_count": null,
      "outputs": [
        {
          "output_type": "stream",
          "name": "stdout",
          "text": [
            "Masukkan bilangan : 2\n",
            "2 adalah Bilangan Prima\n"
          ]
        }
      ]
    },
    {
      "cell_type": "code",
      "metadata": {
        "colab": {
          "base_uri": "https://localhost:8080/"
        },
        "id": "kAlHLQQfs7KY",
        "outputId": "59b7e3fc-4f21-4609-a137-db9365ee1f63"
      },
      "source": [
        "'''\n",
        "2.2 Iterasi di dalam Iterasi\n",
        "    Buatlah code untuk menampilkan penomoran daftar isi, seperti contoh pada 2. Dengan inputan dari user\n",
        "    berupa jumlah bab dan sub bab dalam setiap bab. [Hint : Buatlah iterasi di dalam iterasi]\n",
        "'''\n",
        "bab = int(input('Masukkan jumlah Bab : '))\n",
        "subBab = int(input('Masukkan jumlah Sub Bab di setiap Bab : '))\n",
        "nomor = 0\n",
        "for a in range (1,bab+1):\n",
        "  nomor+=1\n",
        "  print(nomor,'.')\n",
        "  for b in range (1,subBab+1):\n",
        "    print('   ',a,'.',b)"
      ],
      "execution_count": null,
      "outputs": [
        {
          "output_type": "stream",
          "name": "stdout",
          "text": [
            "Masukkan jumlah Bab : 2\n",
            "Masukkan jumlah Sub Bab di setiap Bab : 3\n",
            "1 .\n",
            "    1 . 1\n",
            "    1 . 2\n",
            "    1 . 3\n",
            "2 .\n",
            "    2 . 1\n",
            "    2 . 2\n",
            "    2 . 3\n"
          ]
        }
      ]
    },
    {
      "cell_type": "code",
      "metadata": {
        "colab": {
          "base_uri": "https://localhost:8080/"
        },
        "id": "FsqPdRb1x5R1",
        "outputId": "7f44f9da-8058-41e1-bb5a-4ed739396441"
      },
      "source": [
        "'''\n",
        "2.3 Menu\n",
        "  Buatlah code untuk membuat menu, dimana setiap menu melakukan operasi yang berbeda :\n",
        "  Menu :\n",
        "  • Tekan 1 untuk operasi perhitungan luas lingkaran (input adalah jari-jari)\n",
        "  • Tekan 2 untuk operasi perhitungan luas persegi panjang (input adalah panjang dan lebar)\n",
        "  • Tekan 3 untuk operasi perhitungan luas segitiga (input adalah alas dan tinggi)\n",
        "  Tambahkan pilihan bagi user, apakah ingin mengulangi operasi kembali ataukah tidak, jika ‘y’, maka\n",
        "  tampilkan menu kembali dan lakukan operasi sesuai pilihan dari user. Jika user memilih ‘t’ maka operasi\n",
        "  berhenti.\n",
        "'''\n",
        "stop = False\n",
        "while not(stop):\n",
        "  print('Menu')\n",
        "  print('Tekan 1 untuk operasi perhitungan Luas Lingkaran (input adalah jari-jari) : ')\n",
        "  print('Tekan 2 untuk operasi perhitungan Luas Persegi Panjang (input adalah panjang dan lebar) : ')\n",
        "  print('Tekan 3 untuk operasi perhitungan Luas Segitiga (input adalah alas dan tinggi) : ')\n",
        "  opsi = int(input('Masukkan angka pilihan anda : '))\n",
        "\n",
        "  if opsi==1:\n",
        "    r = int(input('Masukkan jari-jari = '))\n",
        "    Luas = (22/7)*r**2\n",
        "    print('Luas Lingkaran =',Luas)\n",
        "  elif opsi==2:\n",
        "    panjang = int(input('Masukkan panjang = '))\n",
        "    lebar = int(input('Masukkan lebar = '))\n",
        "    Luas = panjang*lebar\n",
        "    print('Luas Persegi Panjang =',Luas)\n",
        "  else:\n",
        "    alas = int(input('Masukkan alas = '))\n",
        "    tinggi = int(input('Masukkan tinggi = '))\n",
        "    Luas = 0.5 * alas * tinggi\n",
        "    print('Luas Segitiga =',Luas)\n",
        "  print('Ingin mengulang operasi?(y/t)')\n",
        "  ulang = input('y/t : ')\n",
        "  if ulang=='t':\n",
        "    stop=True\n",
        "    print('Operasi Selesai')\n",
        "  else:\n",
        "    print('=====================================')"
      ],
      "execution_count": null,
      "outputs": [
        {
          "output_type": "stream",
          "name": "stdout",
          "text": [
            "Menu\n",
            "Tekan 1 untuk operasi perhitungan Luas Lingkaran (input adalah jari-jari) : \n",
            "Tekan 2 untuk operasi perhitungan Luas Persegi Panjang (input adalah panjang dan lebar) : \n",
            "Tekan 3 untuk operasi perhitungan Luas Segitiga (input adalah alas dan tinggi) : \n",
            "Masukkan angka pilihan anda : 1\n",
            "Masukkan jari-jari = 7\n",
            "Luas Lingkaran = 154.0\n",
            "Ingin mengulang operasi?(y/t)\n",
            "y/t : y\n",
            "=====================================\n",
            "Menu\n",
            "Tekan 1 untuk operasi perhitungan Luas Lingkaran (input adalah jari-jari) : \n",
            "Tekan 2 untuk operasi perhitungan Luas Persegi Panjang (input adalah panjang dan lebar) : \n",
            "Tekan 3 untuk operasi perhitungan Luas Segitiga (input adalah alas dan tinggi) : \n",
            "Masukkan angka pilihan anda : 2\n",
            "Masukkan panjang = 4\n",
            "Masukkan lebar = 5\n",
            "Luas Persegi Panjang = 20\n",
            "Ingin mengulang operasi?(y/t)\n",
            "y/t : t\n",
            "Operasi Selesai\n"
          ]
        }
      ]
    }
  ]
}