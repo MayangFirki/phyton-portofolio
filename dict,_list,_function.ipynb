{
  "nbformat": 4,
  "nbformat_minor": 0,
  "metadata": {
    "colab": {
      "provenance": [],
      "collapsed_sections": [],
      "authorship_tag": "ABX9TyPMy+JTqJxH3BlIt/MXEpYp",
      "include_colab_link": true
    },
    "kernelspec": {
      "name": "python3",
      "display_name": "Python 3"
    },
    "language_info": {
      "name": "python"
    }
  },
  "cells": [
    {
      "cell_type": "markdown",
      "metadata": {
        "id": "view-in-github",
        "colab_type": "text"
      },
      "source": [
        "<a href=\"https://colab.research.google.com/github/MayangFirki/phyton-portofolio/blob/main/dict%2C_list%2C_function.ipynb\" target=\"_parent\"><img src=\"https://colab.research.google.com/assets/colab-badge.svg\" alt=\"Open In Colab\"/></a>"
      ]
    },
    {
      "cell_type": "code",
      "execution_count": null,
      "metadata": {
        "colab": {
          "base_uri": "https://localhost:8080/"
        },
        "id": "lEI6rUVy3q6a",
        "outputId": "872e566a-8aa2-46cc-b2bb-dc86d6dd94c0"
      },
      "outputs": [
        {
          "output_type": "stream",
          "name": "stdout",
          "text": [
            "List Harga :\n",
            "Untuk pengunjung berusia kurang dari 7 tahun : Gratis\n",
            "Untuk pengunjung berusia antara 7-12 tahun : Rp. 10.000\n",
            "Untuk pengunjung berusia diatas 12 tahun : Rp. 20.000\n",
            "===========================================\n",
            "Apakah Anda ingin membeli tiket? (yes/no) yes\n",
            "Berapa usia anda? 5\n",
            "Berapa tiket yang ingin Anda beli? 3\n",
            "-----------------------------------------\n",
            "Apakah Anda ingi membeli lagi? (yes/no) yes\n",
            "Berapa usia anda? 15\n",
            "Berapa tiket yang ingin Anda beli? 2\n",
            "-----------------------------------------\n",
            "Apakah Anda ingi membeli lagi? (yes/no) yes\n",
            "Berapa usia anda? 8\n",
            "Berapa tiket yang ingin Anda beli? 1\n",
            "-----------------------------------------\n",
            "Apakah Anda ingi membeli lagi? (yes/no) no\n",
            "_______________\n",
            "Harga total untuk 6 tiket adalah Rp. 50,000\n"
          ]
        }
      ],
      "source": [
        "print(\"List Harga :\")\n",
        "print(\"Untuk pengunjung berusia kurang dari 7 tahun : Gratis\")\n",
        "print(\"Untuk pengunjung berusia antara 7-12 tahun : Rp. 10.000\")\n",
        "print(\"Untuk pengunjung berusia diatas 12 tahun : Rp. 20.000\")\n",
        "print(\"===========================================\")\n",
        "total=0\n",
        "tiket=0\n",
        "validasi=input(\"Apakah Anda ingin membeli tiket? (yes/no) \")\n",
        "while validasi==\"yes\":\n",
        "    usia=int(input(\"Berapa usia anda? \"))\n",
        "    if usia<7:\n",
        "        banyak=int(input(\"Berapa tiket yang ingin Anda beli? \"))\n",
        "        harga=banyak*0\n",
        "    elif usia>=7 and usia<=12:\n",
        "        banyak=int(input(\"Berapa tiket yang ingin Anda beli? \"))\n",
        "        harga=banyak*10000\n",
        "    else:\n",
        "        banyak=int(input(\"Berapa tiket yang ingin Anda beli? \"))\n",
        "        harga=banyak*20000\n",
        "    print(\"-----------------------------------------\")\n",
        "    tiket+=banyak\n",
        "    total+=harga\n",
        "    validasi=input(\"Apakah Anda ingin membeli lagi? (yes/no) \")\n",
        "print(\"_______________\")\n",
        "print(f\"Harga total untuk {tiket} tiket adalah Rp. {total:,}\")"
      ]
    },
    {
      "cell_type": "code",
      "source": [
        "sampledict = {\n",
        "\"name\": \"Anna\",\n",
        "\"gender\": \"female\",\n",
        "\"age\": 19\n",
        "}\n",
        "print(sampledict)\n",
        "print(sampledict[\"gender\"])\n",
        "print(sampledict[\"age\"])\n",
        "#program1 dictionary"
      ],
      "metadata": {
        "colab": {
          "base_uri": "https://localhost:8080/"
        },
        "id": "h2_bsuCnYAoZ",
        "outputId": "2fb7f1db-0ade-46e9-f8f9-60085ed091be"
      },
      "execution_count": null,
      "outputs": [
        {
          "output_type": "stream",
          "name": "stdout",
          "text": [
            "{'name': 'Anna', 'gender': 'female', 'age': 19}\n",
            "female\n",
            "19\n"
          ]
        }
      ]
    },
    {
      "cell_type": "code",
      "source": [
        "#Dictionary\n",
        "# List [] ; dictionary {}\n",
        "# List (index selalu dimulai dari 0....) ; Dictionary (kita yang menentukan index)\n",
        "# Dictionary ==> Key (index) dan value (isi)\n",
        "sampledict = {\n",
        "\"name\": \"Anna\",\n",
        "\"gender\": \"female\",\n",
        "\"age\": 19\n",
        "}\n",
        "print(sampledict.keys())\n",
        "print(sampledict.values())"
      ],
      "metadata": {
        "colab": {
          "base_uri": "https://localhost:8080/"
        },
        "id": "5nFNvpJmYkG6",
        "outputId": "6cb08d51-f3f0-44c2-86aa-9662d3443737"
      },
      "execution_count": null,
      "outputs": [
        {
          "output_type": "stream",
          "name": "stdout",
          "text": [
            "dict_keys(['name', 'gender', 'age'])\n",
            "dict_values(['Anna', 'female', 19])\n"
          ]
        }
      ]
    },
    {
      "cell_type": "code",
      "source": [
        "sampledict = {\n",
        "\"name\": \"Anna\",\n",
        "\"gender\": \"female\",\n",
        "\"age\": 19\n",
        "\"age\": 20\n",
        "}\n",
        "print(sampledict)\n",
        "#program2 dictionary\n"
      ],
      "metadata": {
        "colab": {
          "base_uri": "https://localhost:8080/",
          "height": 131
        },
        "id": "gGcAR7Q7YmSp",
        "outputId": "dda58489-fd1a-4172-ec95-2777dc8fc805"
      },
      "execution_count": null,
      "outputs": [
        {
          "output_type": "error",
          "ename": "SyntaxError",
          "evalue": "ignored",
          "traceback": [
            "\u001b[0;36m  File \u001b[0;32m\"<ipython-input-8-59b0aa0c46b1>\"\u001b[0;36m, line \u001b[0;32m5\u001b[0m\n\u001b[0;31m    \"age\": 20\u001b[0m\n\u001b[0m        ^\u001b[0m\n\u001b[0;31mSyntaxError\u001b[0m\u001b[0;31m:\u001b[0m invalid syntax\n"
          ]
        }
      ]
    },
    {
      "cell_type": "code",
      "source": [
        "#List\n",
        "my_list1 = [] # list kosong\n",
        "my_list2 = [1, 2, 3, 3] # list berisi integer\n",
        "my_list3 = [True, 2, 'Tiga'] # list berisi nilai dengan berbeda type\n",
        "my_list4 = [[90, 90], [100, 90]] # list berisi list lain\n",
        "my_list5 = list ([1, 2, 3])\n",
        "print(my_list1)\n",
        "print(my_list2)\n",
        "print(my_list3)\n",
        "print(my_list4)\n",
        "print(my_list5)"
      ],
      "metadata": {
        "id": "Ruc172N-YfiQ",
        "colab": {
          "base_uri": "https://localhost:8080/"
        },
        "outputId": "46f315f2-76ce-44ee-81b2-93045be15366"
      },
      "execution_count": null,
      "outputs": [
        {
          "output_type": "stream",
          "name": "stdout",
          "text": [
            "[]\n",
            "[1, 2, 3, 3]\n",
            "[True, 2, 'Tiga']\n",
            "[[90, 90], [100, 90]]\n",
            "[1, 2, 3]\n"
          ]
        }
      ]
    },
    {
      "cell_type": "code",
      "source": [
        "#type of data in list\n",
        "list_string = [\"Apel\", \"Banana\", \"Pineapple\"]\n",
        "print (list_string)\n",
        "list_number = [5,35,50]\n",
        "print (list_number)\n",
        "list_mix=[\"Joni\", 20, True]\n",
        "print(list_mix)"
      ],
      "metadata": {
        "colab": {
          "base_uri": "https://localhost:8080/"
        },
        "id": "84DMCQdEYkJZ",
        "outputId": "ab29886e-629b-4f6a-def4-fc8518fce5db"
      },
      "execution_count": null,
      "outputs": [
        {
          "output_type": "stream",
          "name": "stdout",
          "text": [
            "['Apel', 'Banana', 'Pineapple']\n",
            "[5, 35, 50]\n",
            "['Joni', 20, True]\n"
          ]
        }
      ]
    },
    {
      "cell_type": "code",
      "source": [
        "#example\n",
        "list_alphabet = [\"A\", \"B\", \"C\", \"D\", \"X\", \"Y\", \"Z\"]\n",
        "print (list_alphabet [2]) #print index ke 2 (INGAT INDEX MULAI DARI 0)\n",
        "print (list_alphabet [-2])#print index ke 2 TAPI DARI BELAKANG\n",
        "#replace\n",
        "list_alphabet [2] = \"0\" \n",
        "print (list_alphabet) #print list_alphabet TAPI INDEX KE 2 DIGANTI \"0\"\n",
        "#adding\n",
        "list_alphabet.append(\"K\")\n",
        "print (list_alphabet) #print list_alphabet + K\n",
        "list_alphabet.extend([\"L\", \"M\", \"N\"])\n",
        "print (list_alphabet) #???"
      ],
      "metadata": {
        "colab": {
          "base_uri": "https://localhost:8080/"
        },
        "id": "n5bHCasVcvPG",
        "outputId": "38d4a8c7-92f3-404c-e05c-8c4ccc24d19a"
      },
      "execution_count": null,
      "outputs": [
        {
          "output_type": "stream",
          "name": "stdout",
          "text": [
            "C\n",
            "Y\n",
            "['A', 'B', '0', 'D', 'X', 'Y', 'Z']\n",
            "['A', 'B', '0', 'D', 'X', 'Y', 'Z', 'K']\n",
            "['A', 'B', '0', 'D', 'X', 'Y', 'Z', 'K', 'L', 'M', 'N']\n"
          ]
        }
      ]
    },
    {
      "cell_type": "code",
      "source": [
        "listku = [\"aisy\", \"fitho\", \"arif\"]\n",
        "nama = input(\"masukkan nama:\")\n",
        "listku.append(nama)\n",
        "print(listku)\n"
      ],
      "metadata": {
        "colab": {
          "base_uri": "https://localhost:8080/"
        },
        "id": "MPjKKKrifIyL",
        "outputId": "09f82e0f-4c40-4a9a-f865-6bca25492715"
      },
      "execution_count": null,
      "outputs": [
        {
          "output_type": "stream",
          "name": "stdout",
          "text": [
            "masukkan nama:mayang\n",
            "['aisy', 'fitho', 'arif', 'mayang']\n"
          ]
        }
      ]
    },
    {
      "cell_type": "code",
      "source": [
        "#FUNCTION\n",
        "def penjumlahan(a,b):\n",
        "  hasil=a+b\n",
        "  return hasil #\n",
        "print(penjumlahan(5,3))"
      ],
      "metadata": {
        "colab": {
          "base_uri": "https://localhost:8080/"
        },
        "id": "tA6YakLZoN4j",
        "outputId": "9468ef4b-582c-470c-c8d1-1aa9f6c53be3"
      },
      "execution_count": null,
      "outputs": [
        {
          "output_type": "stream",
          "name": "stdout",
          "text": [
            "8\n"
          ]
        }
      ]
    },
    {
      "cell_type": "code",
      "source": [
        "#PERBEDAAN RETURN & PRINT\n",
        "def penjumlahan(a,b):\n",
        "  hasil=a+b\n",
        "  return hasil\n",
        "asal = penjumlahan(5,4)-penjumlahan(1,2)\n",
        "print(asal)\n",
        "\n",
        "def pengurangan(a,b):\n",
        "  hasil=a-b\n",
        "  print(hasil)\n",
        "asal2 = pengurangan(6,1)-pengurangan(3,2)\n",
        "print(asal2)\n"
      ],
      "metadata": {
        "colab": {
          "base_uri": "https://localhost:8080/",
          "height": 270
        },
        "id": "HtBF7axFpCGg",
        "outputId": "07066b1c-9aac-4877-a28d-c8d08611385e"
      },
      "execution_count": null,
      "outputs": [
        {
          "output_type": "stream",
          "name": "stdout",
          "text": [
            "6\n",
            "5\n",
            "1\n"
          ]
        },
        {
          "output_type": "error",
          "ename": "TypeError",
          "evalue": "ignored",
          "traceback": [
            "\u001b[0;31m---------------------------------------------------------------------------\u001b[0m",
            "\u001b[0;31mTypeError\u001b[0m                                 Traceback (most recent call last)",
            "\u001b[0;32m<ipython-input-32-71287cac5124>\u001b[0m in \u001b[0;36m<module>\u001b[0;34m()\u001b[0m\n\u001b[1;32m      9\u001b[0m   \u001b[0mhasil\u001b[0m\u001b[0;34m=\u001b[0m\u001b[0ma\u001b[0m\u001b[0;34m-\u001b[0m\u001b[0mb\u001b[0m\u001b[0;34m\u001b[0m\u001b[0;34m\u001b[0m\u001b[0m\n\u001b[1;32m     10\u001b[0m   \u001b[0mprint\u001b[0m\u001b[0;34m(\u001b[0m\u001b[0mhasil\u001b[0m\u001b[0;34m)\u001b[0m\u001b[0;34m\u001b[0m\u001b[0;34m\u001b[0m\u001b[0m\n\u001b[0;32m---> 11\u001b[0;31m \u001b[0masal2\u001b[0m \u001b[0;34m=\u001b[0m \u001b[0mpengurangan\u001b[0m\u001b[0;34m(\u001b[0m\u001b[0;36m6\u001b[0m\u001b[0;34m,\u001b[0m\u001b[0;36m1\u001b[0m\u001b[0;34m)\u001b[0m\u001b[0;34m-\u001b[0m\u001b[0mpengurangan\u001b[0m\u001b[0;34m(\u001b[0m\u001b[0;36m3\u001b[0m\u001b[0;34m,\u001b[0m\u001b[0;36m2\u001b[0m\u001b[0;34m)\u001b[0m\u001b[0;34m\u001b[0m\u001b[0;34m\u001b[0m\u001b[0m\n\u001b[0m\u001b[1;32m     12\u001b[0m \u001b[0mprint\u001b[0m\u001b[0;34m(\u001b[0m\u001b[0masal2\u001b[0m\u001b[0;34m)\u001b[0m\u001b[0;34m\u001b[0m\u001b[0;34m\u001b[0m\u001b[0m\n",
            "\u001b[0;31mTypeError\u001b[0m: unsupported operand type(s) for -: 'NoneType' and 'NoneType'"
          ]
        }
      ]
    },
    {
      "cell_type": "code",
      "source": [
        "#Function\n",
        "def my_function():\n",
        "  print(\"Hello from a function\")\n",
        "#Catatan, jika anda mencoba untuk memanggil function with 1 or 3 arguments, Anda akan mendapatkan hasil error:\n"
      ],
      "metadata": {
        "id": "Npd2rKtMmOmV"
      },
      "execution_count": null,
      "outputs": []
    },
    {
      "cell_type": "code",
      "source": [
        "def my_function(child3, child2, child1):\n",
        "my_function(child1 = \"Emil\", child2 = \"Tobias\", child3 = \"Linus\")\n",
        "print(\"The youngest child is \" child3)"
      ],
      "metadata": {
        "id": "p9BYBl3EmKey",
        "colab": {
          "base_uri": "https://localhost:8080/",
          "height": 131
        },
        "outputId": "242ded83-dda5-4ac7-c679-be533976fdd9"
      },
      "execution_count": null,
      "outputs": [
        {
          "output_type": "error",
          "ename": "SyntaxError",
          "evalue": "ignored",
          "traceback": [
            "\u001b[0;36m  File \u001b[0;32m\"<ipython-input-21-dccf977ef29f>\"\u001b[0;36m, line \u001b[0;32m1\u001b[0m\n\u001b[0;31m    def my_function(\"child3\", \"child2\", \"child1\"):\u001b[0m\n\u001b[0m                           ^\u001b[0m\n\u001b[0;31mSyntaxError\u001b[0m\u001b[0;31m:\u001b[0m invalid syntax\n"
          ]
        }
      ]
    },
    {
      "cell_type": "code",
      "source": [
        "# fungsi untuk melakukan cetak menu\n",
        "def menu(jumlah, menu):\n",
        "Fungsi untuk mencetak menu dengan jumlah tertentu.\n",
        "Parameters:\n",
        "jumlah (integer) : menu akan dicetak sebanyak jumlah kali\n",
        "menu (string) : menu yang akan dicetak\n",
        "print(\"Cetak menu ayam geprek\", jumlah, \"kali\")\n",
        "print(\"-\"*10)"
      ],
      "metadata": {
        "colab": {
          "base_uri": "https://localhost:8080/",
          "height": 149
        },
        "id": "WFnfjf7NnnVV",
        "outputId": "8934d65b-eed3-4e1a-dcbb-d2527c41d1a8"
      },
      "execution_count": null,
      "outputs": [
        {
          "output_type": "error",
          "ename": "IndentationError",
          "evalue": "ignored",
          "traceback": [
            "\u001b[0;36m  File \u001b[0;32m\"<ipython-input-22-01b62302bde2>\"\u001b[0;36m, line \u001b[0;32m9\u001b[0m\n\u001b[0;31m    \"\"\"\u001b[0m\n\u001b[0m       \n^\u001b[0m\n\u001b[0;31mIndentationError\u001b[0m\u001b[0;31m:\u001b[0m expected an indented block\n"
          ]
        }
      ]
    },
    {
      "cell_type": "code",
      "source": [
        "first_name = {Mayang,Ira,Fita,Ersa}\n",
        "last_name = {Sari,Setyaningrum,Ratna,Ixania}\n",
        "age = {19,19,20,19}\n",
        "city = {Jombang,Malang,Batu,Mojokerto}\n",
        "print "
      ],
      "metadata": {
        "id": "tR9GFvL-tZqW"
      },
      "execution_count": null,
      "outputs": []
    },
    {
      "cell_type": "code",
      "source": [
        "kamus = {\n",
        "\"first_name\": \"anna\",\n",
        "\"last_name\": \"female\",\n",
        "\"age\": \"19\"\n",
        "\"city\": \"Malang\"\n",
        "}\n",
        "print(kamus.keys())\n",
        "print(kamus.values())"
      ],
      "metadata": {
        "colab": {
          "base_uri": "https://localhost:8080/",
          "height": 131
        },
        "id": "XwycqfChuvwy",
        "outputId": "05323707-d3fd-4301-c29e-e58eac2212cb"
      },
      "execution_count": null,
      "outputs": [
        {
          "output_type": "error",
          "ename": "SyntaxError",
          "evalue": "ignored",
          "traceback": [
            "\u001b[0;36m  File \u001b[0;32m\"<ipython-input-16-f28baa7a6a09>\"\u001b[0;36m, line \u001b[0;32m5\u001b[0m\n\u001b[0;31m    \"city\": \"Malang\"\u001b[0m\n\u001b[0m          ^\u001b[0m\n\u001b[0;31mSyntaxError\u001b[0m\u001b[0;31m:\u001b[0m invalid syntax\n"
          ]
        }
      ]
    },
    {
      "cell_type": "code",
      "source": [
        "#Exercise dictionary no 1\n",
        "kamus1 = {\"first_name\":\"Mayang\",\"last_name\":\"Sari\",\"age\":\"20 Tahun\",\"city\":\"Jombang\"}\n",
        "print(kamus1)\n",
        "for kunci in kamus1.keys():\n",
        "  print(f\"kunci dari kamus1 adalah {kunci}\")\n",
        "\n",
        "for nilai in kamus1.values():\n",
        "  print(f\"nilai dari kamus1 adalah {nilai}\")"
      ],
      "metadata": {
        "colab": {
          "base_uri": "https://localhost:8080/"
        },
        "id": "Wtqps9L6v4f2",
        "outputId": "a4d9498c-01f5-467d-8881-7de6cd8a3442"
      },
      "execution_count": null,
      "outputs": [
        {
          "output_type": "stream",
          "name": "stdout",
          "text": [
            "{'first_name': 'Mayang', 'last_name': 'Sari', 'age': '20 Tahun', 'city': 'Jombang'}\n",
            "kunci dari kamus1 adalah first_name\n",
            "kunci dari kamus1 adalah last_name\n",
            "kunci dari kamus1 adalah age\n",
            "kunci dari kamus1 adalah city\n",
            "nilai dari kamus1 adalah Mayang\n",
            "nilai dari kamus1 adalah Sari\n",
            "nilai dari kamus1 adalah 20 Tahun\n",
            "nilai dari kamus1 adalah Jombang\n"
          ]
        }
      ]
    },
    {
      "cell_type": "code",
      "source": [
        "#punya fellisa\n",
        "information = {\"first_name\":\"Mayang\",\"last_name\":\"Sari\",\"age\":20,\"city\":\"Jombang\"}\n",
        "#print(information)\n",
        "print(\"first name:\",information [\"first_name\"])\n",
        "print(\"last name:\",information [\"last_name\"])\n",
        "print(\"age:\",information [\"age\"])\n",
        "print(\"city:\",information [\"city\"])"
      ],
      "metadata": {
        "colab": {
          "base_uri": "https://localhost:8080/"
        },
        "id": "MWx-IF_90qds",
        "outputId": "4017d66a-bed6-4a3b-92c4-74ff1cb4869a"
      },
      "execution_count": null,
      "outputs": [
        {
          "output_type": "stream",
          "name": "stdout",
          "text": [
            "first name: Mayang\n",
            "last name: Sari\n",
            "age: 20\n",
            "city: Jombang\n"
          ]
        }
      ]
    },
    {
      "cell_type": "code",
      "source": [
        "#Exercise dictionary no 2\n",
        "kamus2 = {\"Ira\":21,\"Indah\":27,\"Fita\":12,\"Amil\":13,\"Mayang\":20}\n",
        "for kunci in kamus2.keys():\n",
        "  print(f\"{kamus2[kunci]} adalah nomor favorit {kunci}\")"
      ],
      "metadata": {
        "colab": {
          "base_uri": "https://localhost:8080/"
        },
        "id": "wr-YTaJyxT3r",
        "outputId": "55b53071-43ac-46ca-ca80-335bbfe64f42"
      },
      "execution_count": null,
      "outputs": [
        {
          "output_type": "stream",
          "name": "stdout",
          "text": [
            "21 adalah nomor favorit Ira\n",
            "27 adalah nomor favorit Indah\n",
            "12 adalah nomor favorit Fita\n",
            "13 adalah nomor favorit Amil\n",
            "20 adalah nomor favorit Mayang\n"
          ]
        }
      ]
    },
    {
      "cell_type": "code",
      "source": [
        "#Exercise dictionary no 3\n",
        "favorite_places = {\n",
        "    \"Mayang\" : [\"Bali\",\"Malang\",\"Yogyakarta\"],\n",
        "    \"Ira\" : [\"Jombang\",\"Jakarta\",\"Solo\"],\n",
        "    \"Fita\" : [\"Lombok\",\"Madiun\",\"Bandung\"],\n",
        "}\n",
        "print(favorite_places)"
      ],
      "metadata": {
        "colab": {
          "base_uri": "https://localhost:8080/"
        },
        "id": "U_FV8cJNKc-7",
        "outputId": "ff572459-65ce-4ab9-8524-4405e571fe59"
      },
      "execution_count": null,
      "outputs": [
        {
          "output_type": "stream",
          "name": "stdout",
          "text": [
            "{'Mayang': ['Bali', 'Malang', 'Yogyakarta'], 'Ira': ['Jombang', 'Jakarta', 'Solo'], 'Fita': ['Lombok', 'Madiun', 'Bandung']}\n"
          ]
        }
      ]
    },
    {
      "cell_type": "code",
      "source": [
        "#exercise function no 1\n",
        "def kalkulasitambah(a,b):\n",
        "  return (a+b)\n",
        "print(kalkulasitambah(2,3))"
      ],
      "metadata": {
        "colab": {
          "base_uri": "https://localhost:8080/"
        },
        "id": "JNQHjx8Y0EzI",
        "outputId": "f11ff000-201b-476b-d6bf-543d2c4b59d5"
      },
      "execution_count": null,
      "outputs": [
        {
          "output_type": "stream",
          "name": "stdout",
          "text": [
            "5\n"
          ]
        }
      ]
    },
    {
      "cell_type": "code",
      "source": [
        "def kalkulasitambah(a,b):\n",
        "  return (a+b)\n",
        "\n",
        "(kalkulasitambah(2,3))"
      ],
      "metadata": {
        "colab": {
          "base_uri": "https://localhost:8080/"
        },
        "id": "83nGBpO73ocA",
        "outputId": "7f6b80b5-be03-4c42-c756-a4b76e928e08"
      },
      "execution_count": null,
      "outputs": [
        {
          "output_type": "execute_result",
          "data": {
            "text/plain": [
              "5"
            ]
          },
          "metadata": {},
          "execution_count": 28
        }
      ]
    },
    {
      "cell_type": "code",
      "source": [
        "def format_name(firstname,lastname):\n",
        "  formated_firstname = firstname.tittle()\n",
        "  formated_lastname = lastname.tittle()\n",
        "  firstname.capitalize()\n",
        "  lastname.capitalize()\n",
        "  return f\"{formated_firstname} {formated_lastname}\"\n",
        "print (format_name \"VERTIC\",\"eRidani\")\n"
      ],
      "metadata": {
        "colab": {
          "base_uri": "https://localhost:8080/",
          "height": 131
        },
        "id": "E3n-NZk507bZ",
        "outputId": "1a3e8be9-7f05-41ce-8f12-ab4d0b69dd02"
      },
      "execution_count": null,
      "outputs": [
        {
          "output_type": "error",
          "ename": "SyntaxError",
          "evalue": "ignored",
          "traceback": [
            "\u001b[0;36m  File \u001b[0;32m\"<ipython-input-30-c771c365591b>\"\u001b[0;36m, line \u001b[0;32m7\u001b[0m\n\u001b[0;31m    print (format_name \"VERTIC\",\"eRidani\")\u001b[0m\n\u001b[0m                              ^\u001b[0m\n\u001b[0;31mSyntaxError\u001b[0m\u001b[0;31m:\u001b[0m invalid syntax\n"
          ]
        }
      ]
    },
    {
      "cell_type": "code",
      "source": [
        "#Exercise function no 2\n",
        "def full_name(firstname,lastname):\n",
        "  return f\"Your full name : {firstname.capitalize()} {lastname.capitalize()}\"\n",
        "print (full_name(\"VERTIC\",\"eRidani\"))"
      ],
      "metadata": {
        "colab": {
          "base_uri": "https://localhost:8080/"
        },
        "id": "U4P7TDkc5CNr",
        "outputId": "6e73b226-dc60-45f9-e907-07f60c73e743"
      },
      "execution_count": null,
      "outputs": [
        {
          "output_type": "stream",
          "name": "stdout",
          "text": [
            "Your full name : Vertic Eridani\n"
          ]
        }
      ]
    },
    {
      "cell_type": "code",
      "source": [
        "#Exercise function no 3\n",
        "def ibukota(negara,kota):\n",
        "  return f\"Ibu kota negara {negara} adalah {kota}\"\n",
        "print(ibukota(\"Indonesia\",\"Jakarta\"))"
      ],
      "metadata": {
        "colab": {
          "base_uri": "https://localhost:8080/"
        },
        "id": "AlT10y8E2yL0",
        "outputId": "dd8852dd-6bc3-464e-c958-5da00fe6c3e8"
      },
      "execution_count": null,
      "outputs": [
        {
          "output_type": "stream",
          "name": "stdout",
          "text": [
            "Ibu kota negara Indonesia adalah Jakarta\n"
          ]
        }
      ]
    }
  ]
}